{
 "cells": [
  {
   "cell_type": "markdown",
   "id": "7411b902-6542-4921-960b-ed06f0ac0119",
   "metadata": {},
   "source": [
    "# Model Selection"
   ]
  },
  {
   "cell_type": "code",
   "execution_count": 1,
   "id": "9d91ec62-3d5d-4523-99c5-aaf3373dc40d",
   "metadata": {},
   "outputs": [],
   "source": [
    "import pandas as pd\n",
    "import numpy as np\n",
    "from sklearn import datasets"
   ]
  },
  {
   "cell_type": "code",
   "execution_count": 2,
   "id": "31e02f63-8e64-455a-bfaa-897badfac743",
   "metadata": {},
   "outputs": [],
   "source": [
    "iris = datasets.load_iris()"
   ]
  },
  {
   "cell_type": "code",
   "execution_count": 3,
   "id": "a195af47-5fa6-47f8-bd6c-811e17afdaf1",
   "metadata": {},
   "outputs": [],
   "source": [
    "df = pd.DataFrame(iris['data'])"
   ]
  },
  {
   "cell_type": "code",
   "execution_count": 4,
   "id": "4f9278a5-4916-4006-9c2e-431628129bba",
   "metadata": {},
   "outputs": [],
   "source": [
    "df.columns = iris['feature_names']\n",
    "df['target'] = iris['target']"
   ]
  },
  {
   "cell_type": "code",
   "execution_count": 5,
   "id": "f7cf6eb8-6c4e-4c00-90ca-3c5f7378a5a1",
   "metadata": {},
   "outputs": [],
   "source": [
    "# random categories\n",
    "df['cat'] = np.random.choice([1, 2, 3, 4, 5], len(df))"
   ]
  },
  {
   "cell_type": "code",
   "execution_count": 6,
   "id": "2049a4a5-e4fe-4eab-9289-2a029b3cdb1d",
   "metadata": {},
   "outputs": [
    {
     "data": {
      "text/html": [
       "<div>\n",
       "<style scoped>\n",
       "    .dataframe tbody tr th:only-of-type {\n",
       "        vertical-align: middle;\n",
       "    }\n",
       "\n",
       "    .dataframe tbody tr th {\n",
       "        vertical-align: top;\n",
       "    }\n",
       "\n",
       "    .dataframe thead th {\n",
       "        text-align: right;\n",
       "    }\n",
       "</style>\n",
       "<table border=\"1\" class=\"dataframe\">\n",
       "  <thead>\n",
       "    <tr style=\"text-align: right;\">\n",
       "      <th></th>\n",
       "      <th>sepal length (cm)</th>\n",
       "      <th>sepal width (cm)</th>\n",
       "      <th>petal length (cm)</th>\n",
       "      <th>petal width (cm)</th>\n",
       "      <th>target</th>\n",
       "      <th>cat</th>\n",
       "    </tr>\n",
       "  </thead>\n",
       "  <tbody>\n",
       "    <tr>\n",
       "      <th>0</th>\n",
       "      <td>5.1</td>\n",
       "      <td>3.5</td>\n",
       "      <td>1.4</td>\n",
       "      <td>0.2</td>\n",
       "      <td>0</td>\n",
       "      <td>4</td>\n",
       "    </tr>\n",
       "    <tr>\n",
       "      <th>1</th>\n",
       "      <td>4.9</td>\n",
       "      <td>3.0</td>\n",
       "      <td>1.4</td>\n",
       "      <td>0.2</td>\n",
       "      <td>0</td>\n",
       "      <td>4</td>\n",
       "    </tr>\n",
       "    <tr>\n",
       "      <th>2</th>\n",
       "      <td>4.7</td>\n",
       "      <td>3.2</td>\n",
       "      <td>1.3</td>\n",
       "      <td>0.2</td>\n",
       "      <td>0</td>\n",
       "      <td>1</td>\n",
       "    </tr>\n",
       "    <tr>\n",
       "      <th>3</th>\n",
       "      <td>4.6</td>\n",
       "      <td>3.1</td>\n",
       "      <td>1.5</td>\n",
       "      <td>0.2</td>\n",
       "      <td>0</td>\n",
       "      <td>3</td>\n",
       "    </tr>\n",
       "    <tr>\n",
       "      <th>4</th>\n",
       "      <td>5.0</td>\n",
       "      <td>3.6</td>\n",
       "      <td>1.4</td>\n",
       "      <td>0.2</td>\n",
       "      <td>0</td>\n",
       "      <td>3</td>\n",
       "    </tr>\n",
       "    <tr>\n",
       "      <th>...</th>\n",
       "      <td>...</td>\n",
       "      <td>...</td>\n",
       "      <td>...</td>\n",
       "      <td>...</td>\n",
       "      <td>...</td>\n",
       "      <td>...</td>\n",
       "    </tr>\n",
       "    <tr>\n",
       "      <th>145</th>\n",
       "      <td>6.7</td>\n",
       "      <td>3.0</td>\n",
       "      <td>5.2</td>\n",
       "      <td>2.3</td>\n",
       "      <td>2</td>\n",
       "      <td>1</td>\n",
       "    </tr>\n",
       "    <tr>\n",
       "      <th>146</th>\n",
       "      <td>6.3</td>\n",
       "      <td>2.5</td>\n",
       "      <td>5.0</td>\n",
       "      <td>1.9</td>\n",
       "      <td>2</td>\n",
       "      <td>3</td>\n",
       "    </tr>\n",
       "    <tr>\n",
       "      <th>147</th>\n",
       "      <td>6.5</td>\n",
       "      <td>3.0</td>\n",
       "      <td>5.2</td>\n",
       "      <td>2.0</td>\n",
       "      <td>2</td>\n",
       "      <td>2</td>\n",
       "    </tr>\n",
       "    <tr>\n",
       "      <th>148</th>\n",
       "      <td>6.2</td>\n",
       "      <td>3.4</td>\n",
       "      <td>5.4</td>\n",
       "      <td>2.3</td>\n",
       "      <td>2</td>\n",
       "      <td>3</td>\n",
       "    </tr>\n",
       "    <tr>\n",
       "      <th>149</th>\n",
       "      <td>5.9</td>\n",
       "      <td>3.0</td>\n",
       "      <td>5.1</td>\n",
       "      <td>1.8</td>\n",
       "      <td>2</td>\n",
       "      <td>4</td>\n",
       "    </tr>\n",
       "  </tbody>\n",
       "</table>\n",
       "<p>150 rows × 6 columns</p>\n",
       "</div>"
      ],
      "text/plain": [
       "     sepal length (cm)  sepal width (cm)  petal length (cm)  petal width (cm)  \\\n",
       "0                  5.1               3.5                1.4               0.2   \n",
       "1                  4.9               3.0                1.4               0.2   \n",
       "2                  4.7               3.2                1.3               0.2   \n",
       "3                  4.6               3.1                1.5               0.2   \n",
       "4                  5.0               3.6                1.4               0.2   \n",
       "..                 ...               ...                ...               ...   \n",
       "145                6.7               3.0                5.2               2.3   \n",
       "146                6.3               2.5                5.0               1.9   \n",
       "147                6.5               3.0                5.2               2.0   \n",
       "148                6.2               3.4                5.4               2.3   \n",
       "149                5.9               3.0                5.1               1.8   \n",
       "\n",
       "     target  cat  \n",
       "0         0    4  \n",
       "1         0    4  \n",
       "2         0    1  \n",
       "3         0    3  \n",
       "4         0    3  \n",
       "..      ...  ...  \n",
       "145       2    1  \n",
       "146       2    3  \n",
       "147       2    2  \n",
       "148       2    3  \n",
       "149       2    4  \n",
       "\n",
       "[150 rows x 6 columns]"
      ]
     },
     "execution_count": 6,
     "metadata": {},
     "output_type": "execute_result"
    }
   ],
   "source": [
    "df"
   ]
  },
  {
   "cell_type": "markdown",
   "id": "1f679fdb-4faa-44f7-ba8c-ec61892c998d",
   "metadata": {},
   "source": [
    "### KFold"
   ]
  },
  {
   "cell_type": "code",
   "execution_count": 7,
   "id": "6e3f1eef-a449-46ad-866c-147a527ca449",
   "metadata": {},
   "outputs": [],
   "source": [
    "import seaborn as sns\n",
    "import matplotlib.pyplot as plt"
   ]
  },
  {
   "cell_type": "code",
   "execution_count": 8,
   "id": "7dec22fc-eb5b-47d2-963e-fca4763e6f07",
   "metadata": {},
   "outputs": [],
   "source": [
    "from sklearn.model_selection import KFold"
   ]
  },
  {
   "cell_type": "code",
   "execution_count": 9,
   "id": "fd7c535e-b178-4da9-a632-82ddff2d132c",
   "metadata": {},
   "outputs": [],
   "source": [
    "kf = KFold(n_splits=5)"
   ]
  },
  {
   "cell_type": "code",
   "execution_count": 10,
   "id": "be53365a-43d9-474c-bee6-7f98ad27f160",
   "metadata": {},
   "outputs": [
    {
     "name": "stdout",
     "output_type": "stream",
     "text": [
      "Fold 1\n",
      "Training data: target\n",
      "1    41.67\n",
      "2    41.67\n",
      "0    16.67\n",
      "Name: count, dtype: float64\n",
      "Testing data: target\n",
      "0    100.0\n",
      "Name: count, dtype: float64\n",
      "==========================\n",
      "Fold 2\n",
      "Training data: target\n",
      "2    41.67\n",
      "1    33.33\n",
      "0    25.00\n",
      "Name: count, dtype: float64\n",
      "Testing data: target\n",
      "0    66.67\n",
      "1    33.33\n",
      "Name: count, dtype: float64\n",
      "==========================\n",
      "Fold 3\n",
      "Training data: target\n",
      "0    41.67\n",
      "2    41.67\n",
      "1    16.67\n",
      "Name: count, dtype: float64\n",
      "Testing data: target\n",
      "1    100.0\n",
      "Name: count, dtype: float64\n",
      "==========================\n",
      "Fold 4\n",
      "Training data: target\n",
      "0    41.67\n",
      "1    33.33\n",
      "2    25.00\n",
      "Name: count, dtype: float64\n",
      "Testing data: target\n",
      "2    66.67\n",
      "1    33.33\n",
      "Name: count, dtype: float64\n",
      "==========================\n",
      "Fold 5\n",
      "Training data: target\n",
      "0    41.67\n",
      "1    41.67\n",
      "2    16.67\n",
      "Name: count, dtype: float64\n",
      "Testing data: target\n",
      "2    100.0\n",
      "Name: count, dtype: float64\n",
      "==========================\n"
     ]
    }
   ],
   "source": [
    "for i, data_idx in enumerate(kf.split(df)):\n",
    "    print(f'Fold {i + 1}')\n",
    "    print(f\"Training data: {round(df.loc[data_idx[0], 'target'].value_counts() / (len(df)*0.8) * 100, 2)}\")\n",
    "    print(f\"Testing data: {round(df.loc[data_idx[1], 'target'].value_counts() / (len(df)*0.2) * 100, 2)}\")\n",
    "    print('==========================')"
   ]
  },
  {
   "cell_type": "markdown",
   "id": "6621b961-e996-40ab-8926-fc3781244f7b",
   "metadata": {},
   "source": [
    "### Group KFold"
   ]
  },
  {
   "cell_type": "code",
   "execution_count": 11,
   "id": "eb317f66-b611-434b-bb5f-082157b72153",
   "metadata": {},
   "outputs": [],
   "source": [
    "from sklearn.model_selection import GroupKFold"
   ]
  },
  {
   "cell_type": "code",
   "execution_count": 12,
   "id": "adc38a72-d989-4593-8d09-76d1860da2c0",
   "metadata": {},
   "outputs": [],
   "source": [
    "gkf = GroupKFold(n_splits=5)"
   ]
  },
  {
   "cell_type": "code",
   "execution_count": 13,
   "id": "f9742e7a-18d6-4a5f-a43b-01e5c7050ce2",
   "metadata": {},
   "outputs": [
    {
     "name": "stdout",
     "output_type": "stream",
     "text": [
      "Fold 1\n",
      "Training data: cat\n",
      "4    21.33\n",
      "3    20.67\n",
      "5    18.67\n",
      "2    17.33\n",
      "Name: count, dtype: float64\n",
      "Testing data: cat\n",
      "1    110.0\n",
      "Name: count, dtype: float64\n",
      "==========================\n",
      "Fold 2\n",
      "Training data: cat\n",
      "1    22.00\n",
      "3    20.67\n",
      "5    18.67\n",
      "2    17.33\n",
      "Name: count, dtype: float64\n",
      "Testing data: cat\n",
      "4    106.67\n",
      "Name: count, dtype: float64\n",
      "==========================\n",
      "Fold 3\n",
      "Training data: cat\n",
      "1    22.00\n",
      "4    21.33\n",
      "5    18.67\n",
      "2    17.33\n",
      "Name: count, dtype: float64\n",
      "Testing data: cat\n",
      "3    103.33\n",
      "Name: count, dtype: float64\n",
      "==========================\n",
      "Fold 4\n",
      "Training data: cat\n",
      "1    22.00\n",
      "4    21.33\n",
      "3    20.67\n",
      "2    17.33\n",
      "Name: count, dtype: float64\n",
      "Testing data: cat\n",
      "5    93.33\n",
      "Name: count, dtype: float64\n",
      "==========================\n",
      "Fold 5\n",
      "Training data: cat\n",
      "1    22.00\n",
      "4    21.33\n",
      "3    20.67\n",
      "5    18.67\n",
      "Name: count, dtype: float64\n",
      "Testing data: cat\n",
      "2    86.67\n",
      "Name: count, dtype: float64\n",
      "==========================\n"
     ]
    }
   ],
   "source": [
    "for i, data_idx in enumerate(gkf.split(df, groups=df['cat'])):\n",
    "    print(f'Fold {i + 1}')\n",
    "    print(f\"Training data: {round(df.loc[data_idx[0], 'cat'].value_counts() / len(df) * 100, 2)}\")\n",
    "    print(f\"Testing data: {round(df.loc[data_idx[1], 'cat'].value_counts() / (len(df)/5) * 100, 2)}\")\n",
    "    print('==========================')"
   ]
  },
  {
   "cell_type": "markdown",
   "id": "8fd24160-a49d-4b12-8a34-ed1c5747fc6f",
   "metadata": {},
   "source": [
    "### Stratified KFold"
   ]
  },
  {
   "cell_type": "code",
   "execution_count": 14,
   "id": "35827662-625f-4b3d-99ca-12429507964b",
   "metadata": {},
   "outputs": [],
   "source": [
    "from sklearn.model_selection import StratifiedKFold"
   ]
  },
  {
   "cell_type": "code",
   "execution_count": 15,
   "id": "04bcd1dc-ed95-458a-a7c6-e266d82b61fa",
   "metadata": {},
   "outputs": [],
   "source": [
    "skf = StratifiedKFold(n_splits=5)"
   ]
  },
  {
   "cell_type": "code",
   "execution_count": 16,
   "id": "7ae784dd-9a56-4334-a936-5155d325a454",
   "metadata": {},
   "outputs": [
    {
     "name": "stdout",
     "output_type": "stream",
     "text": [
      "Fold 1\n",
      "Training data: target\n",
      "0    33.33\n",
      "1    33.33\n",
      "2    33.33\n",
      "Name: count, dtype: float64\n",
      "Testing data: target\n",
      "0    33.33\n",
      "1    33.33\n",
      "2    33.33\n",
      "Name: count, dtype: float64\n",
      "==========================\n",
      "Fold 2\n",
      "Training data: target\n",
      "0    33.33\n",
      "1    33.33\n",
      "2    33.33\n",
      "Name: count, dtype: float64\n",
      "Testing data: target\n",
      "0    33.33\n",
      "1    33.33\n",
      "2    33.33\n",
      "Name: count, dtype: float64\n",
      "==========================\n",
      "Fold 3\n",
      "Training data: target\n",
      "0    33.33\n",
      "1    33.33\n",
      "2    33.33\n",
      "Name: count, dtype: float64\n",
      "Testing data: target\n",
      "0    33.33\n",
      "1    33.33\n",
      "2    33.33\n",
      "Name: count, dtype: float64\n",
      "==========================\n",
      "Fold 4\n",
      "Training data: target\n",
      "0    33.33\n",
      "1    33.33\n",
      "2    33.33\n",
      "Name: count, dtype: float64\n",
      "Testing data: target\n",
      "0    33.33\n",
      "1    33.33\n",
      "2    33.33\n",
      "Name: count, dtype: float64\n",
      "==========================\n",
      "Fold 5\n",
      "Training data: target\n",
      "0    33.33\n",
      "1    33.33\n",
      "2    33.33\n",
      "Name: count, dtype: float64\n",
      "Testing data: target\n",
      "0    33.33\n",
      "1    33.33\n",
      "2    33.33\n",
      "Name: count, dtype: float64\n",
      "==========================\n"
     ]
    }
   ],
   "source": [
    "for i, data_idx in enumerate(skf.split(df, y=df['target'])):\n",
    "    print(f'Fold {i + 1}')\n",
    "    print(f\"Training data: {round(df.loc[data_idx[0], 'target'].value_counts() / (len(df)*0.8) * 100, 2)}\")\n",
    "    print(f\"Testing data: {round(df.loc[data_idx[1], 'target'].value_counts() / (len(df)*0.2) * 100, 2)}\")\n",
    "    print('==========================')"
   ]
  },
  {
   "cell_type": "markdown",
   "id": "5597cb37-89da-43f2-8f98-ec0b12976cb3",
   "metadata": {},
   "source": [
    "### Stratified Group KFold"
   ]
  },
  {
   "cell_type": "code",
   "execution_count": 17,
   "id": "fcd38d72-5a0a-4f68-ad2d-55fc4b690ee1",
   "metadata": {},
   "outputs": [],
   "source": [
    "from sklearn.model_selection import StratifiedGroupKFold"
   ]
  },
  {
   "cell_type": "code",
   "execution_count": 18,
   "id": "5e48c2ee-309c-4d0d-9355-2d7a97f97fd3",
   "metadata": {},
   "outputs": [],
   "source": [
    "sgkf = StratifiedGroupKFold(n_splits=5)"
   ]
  },
  {
   "cell_type": "code",
   "execution_count": 19,
   "id": "de02cfbc-65e4-4d5d-8d5a-36ca092879c8",
   "metadata": {},
   "outputs": [
    {
     "name": "stdout",
     "output_type": "stream",
     "text": [
      "Fold 1\n",
      "Training data: target\n",
      "0    35.83\n",
      "2    34.17\n",
      "1    29.17\n",
      "Name: count, dtype: float64\n",
      "Training data: cat\n",
      "1    27.50\n",
      "4    26.67\n",
      "5    23.33\n",
      "2    21.67\n",
      "Name: count, dtype: float64\n",
      "Testing data: target\n",
      "1    50.00\n",
      "2    30.00\n",
      "0    23.33\n",
      "Name: count, dtype: float64\n",
      "==========================\n",
      "Fold 2\n",
      "Training data: target\n",
      "2    36.67\n",
      "1    35.83\n",
      "0    30.83\n",
      "Name: count, dtype: float64\n",
      "Training data: cat\n",
      "1    27.50\n",
      "4    26.67\n",
      "3    25.83\n",
      "5    23.33\n",
      "Name: count, dtype: float64\n",
      "Testing data: target\n",
      "0    43.33\n",
      "1    23.33\n",
      "2    20.00\n",
      "Name: count, dtype: float64\n",
      "==========================\n",
      "Fold 3\n",
      "Training data: target\n",
      "1    36.67\n",
      "0    33.33\n",
      "2    31.67\n",
      "Name: count, dtype: float64\n",
      "Training data: cat\n",
      "1    27.50\n",
      "4    26.67\n",
      "3    25.83\n",
      "2    21.67\n",
      "Name: count, dtype: float64\n",
      "Testing data: target\n",
      "2    40.00\n",
      "0    33.33\n",
      "1    20.00\n",
      "Name: count, dtype: float64\n",
      "==========================\n",
      "Fold 4\n",
      "Training data: target\n",
      "0    34.17\n",
      "2    32.50\n",
      "1    30.83\n",
      "Name: count, dtype: float64\n",
      "Training data: cat\n",
      "4    26.67\n",
      "3    25.83\n",
      "5    23.33\n",
      "2    21.67\n",
      "Name: count, dtype: float64\n",
      "Testing data: target\n",
      "1    43.33\n",
      "2    36.67\n",
      "0    30.00\n",
      "Name: count, dtype: float64\n",
      "==========================\n",
      "Fold 5\n",
      "Training data: target\n",
      "1    34.17\n",
      "0    32.50\n",
      "2    31.67\n",
      "Name: count, dtype: float64\n",
      "Training data: cat\n",
      "1    27.50\n",
      "3    25.83\n",
      "5    23.33\n",
      "2    21.67\n",
      "Name: count, dtype: float64\n",
      "Testing data: target\n",
      "2    40.00\n",
      "0    36.67\n",
      "1    30.00\n",
      "Name: count, dtype: float64\n",
      "==========================\n"
     ]
    }
   ],
   "source": [
    "for i, data_idx in enumerate(sgkf.split(df, y=df['target'], groups=df['cat'])):\n",
    "    print(f'Fold {i + 1}')\n",
    "    print(f\"Training data: {round(df.loc[data_idx[0], 'target'].value_counts() / (len(df)*0.8) * 100, 2)}\")\n",
    "    print(f\"Training data: {round(df.loc[data_idx[0], 'cat'].value_counts() / (len(df)*0.8) * 100, 2)}\")\n",
    "    print(f\"Testing data: {round(df.loc[data_idx[1], 'target'].value_counts() / (len(df)*0.2) * 100, 2)}\")\n",
    "    print('==========================')"
   ]
  },
  {
   "cell_type": "markdown",
   "id": "931f4463-a07c-4965-873f-7bfa9f38e609",
   "metadata": {},
   "source": [
    "### Train Test Split"
   ]
  },
  {
   "cell_type": "code",
   "execution_count": 20,
   "id": "74a5c563-b978-4fa9-b151-dede01af5fea",
   "metadata": {},
   "outputs": [],
   "source": [
    "from sklearn.model_selection import train_test_split"
   ]
  },
  {
   "cell_type": "code",
   "execution_count": 21,
   "id": "bc4fab3a-7f32-4269-90be-eec70b1b3171",
   "metadata": {},
   "outputs": [],
   "source": [
    "x_train, x_test, y_train, y_test = train_test_split(df[df.columns.difference(['target'])], df['target'], stratify=df['target'], test_size=0.2)"
   ]
  },
  {
   "cell_type": "code",
   "execution_count": 22,
   "id": "22ba1a4e-4b0f-4d9f-8b5d-0254509e65e1",
   "metadata": {},
   "outputs": [
    {
     "data": {
      "text/plain": [
       "target\n",
       "0    40\n",
       "1    40\n",
       "2    40\n",
       "Name: count, dtype: int64"
      ]
     },
     "execution_count": 22,
     "metadata": {},
     "output_type": "execute_result"
    }
   ],
   "source": [
    "y_train.value_counts()"
   ]
  },
  {
   "cell_type": "code",
   "execution_count": 23,
   "id": "82405515-f750-41f2-8bd8-1686a9b23849",
   "metadata": {},
   "outputs": [
    {
     "data": {
      "text/plain": [
       "target\n",
       "2    10\n",
       "0    10\n",
       "1    10\n",
       "Name: count, dtype: int64"
      ]
     },
     "execution_count": 23,
     "metadata": {},
     "output_type": "execute_result"
    }
   ],
   "source": [
    "y_test.value_counts()"
   ]
  }
 ],
 "metadata": {
  "kernelspec": {
   "display_name": "Python 3 (ipykernel)",
   "language": "python",
   "name": "python3"
  },
  "language_info": {
   "codemirror_mode": {
    "name": "ipython",
    "version": 3
   },
   "file_extension": ".py",
   "mimetype": "text/x-python",
   "name": "python",
   "nbconvert_exporter": "python",
   "pygments_lexer": "ipython3",
   "version": "3.10.11"
  }
 },
 "nbformat": 4,
 "nbformat_minor": 5
}
